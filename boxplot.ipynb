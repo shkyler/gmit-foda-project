{
 "cells": [
  {
   "cell_type": "markdown",
   "metadata": {},
   "source": [
    "<p align=\"center\">\n",
    "  <img src=\"img/GMITLOGO.jpg\" width=\"500\"/></p>"
   ]
  },
  {
   "cell_type": "markdown",
   "metadata": {},
   "source": [
    "# GMIT, H.Dip in Data Analytics, Fundamentals of Data Analysis Project 2018"
   ]
  },
  {
   "cell_type": "markdown",
   "metadata": {},
   "source": [
    "## 1. Introduction\n",
    "\n",
    "This repository contains all of the files pertaining to my 2018 project submission for the Fundamentals of Data \n",
    "Analysis module of the GMIT H.Dip program in Data Analytics. All of the work within this repository was carried out over the course of a 4 week period in November and December 2018. This Jupyter notebook [1] contains the complete documentation for the project.\n",
    "\n",
    "### 1.1 Project Objective\n",
    "\n",
    "The objective of this project is to investigte and explain boxplots and their uses, by researching the subject and then demonstrating the use of box plots using `matplotlib.pyplot`. There are 4 main tasks to carried out [2]:\n",
    "* Summarise the history of the box plot and situations in which it used.\n",
    "* Demonstrate the use of the box plot using data of your choosing.\n",
    "* Explain any relevant terminology such as the terms quartile and percentile. \n",
    "* Compare the box plot to alternatives.\n",
    "\n",
    "### 1.2 Plan for the project\n",
    "\n",
    "The plan for this project is as follows:\n",
    "1. Section 2 will give an a brief introduction to boxplots, looking at the history and the use cases. The theory behid them and technical terminology will be explained at this stage\n",
    "1. In Section 3 I will analyse a data set using boxplots, (insert data set here!)\n",
    "1. In Section 4 I will discuss some of the findings from Section 3, looking at alternatives to the boxplot, comparing and contrasting the relative strenghts of each approach\n",
    "1. The project will be concluded in Section 5\n",
    "\n",
    "## 2. Overview of the Box Plots\n",
    "### History\n",
    "### Uses\n",
    "\n",
    "## 3. How to use the box plot\n",
    "### Code samples to show how it can be used\n",
    "\n",
    "## 4. Alternatives\n",
    "### Comparisons between box plots and other such as histograms\n",
    "\n",
    "## 6. Conclusion\n"
   ]
  },
  {
   "cell_type": "markdown",
   "metadata": {},
   "source": [
    "## References\n",
    "\n",
    "1. [1] Project Jupyter. Project Jupyter Home. (_https://www.jupyter.org/_)  "
   ]
  },
  {
   "cell_type": "code",
   "execution_count": null,
   "metadata": {},
   "outputs": [],
   "source": []
  },
  {
   "cell_type": "code",
   "execution_count": null,
   "metadata": {},
   "outputs": [],
   "source": []
  }
 ],
 "metadata": {
  "kernelspec": {
   "display_name": "Python 3",
   "language": "python",
   "name": "python3"
  },
  "language_info": {
   "codemirror_mode": {
    "name": "ipython",
    "version": 3
   },
   "file_extension": ".py",
   "mimetype": "text/x-python",
   "name": "python",
   "nbconvert_exporter": "python",
   "pygments_lexer": "ipython3",
   "version": "3.6.6"
  }
 },
 "nbformat": 4,
 "nbformat_minor": 2
}
