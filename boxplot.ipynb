{
 "cells": [
  {
   "cell_type": "markdown",
   "metadata": {},
   "source": [
    "<p align=\"center\">\n",
    "  <img src=\"img/GMITLOGO.jpg\" width=\"500\"/></p>"
   ]
  },
  {
   "cell_type": "markdown",
   "metadata": {},
   "source": [
    "# GMIT, H.Dip in Data Analytics, Fundamentals of Data Analysis Project 2018"
   ]
  },
  {
   "cell_type": "markdown",
   "metadata": {},
   "source": [
    "## 1. Introduction\n",
    "\n",
    "This repository contains all of the files pertaining to my 2018 project submission for the Fundamentals of Data \n",
    "Analysis module of the GMIT H.Dip program in Data Analytics. All of the work within this repository was carried out over the course of a 4 week period in November and December 2018. This Jupyter notebook [1] contains the complete documentation for the project.\n",
    "\n",
    "### 1.1 Project Objective\n",
    "\n",
    "The objective of this project is to investigte and explain boxplots and their uses, by researching the subject and then demonstrating the use of box plots using `matplotlib.pyplot`[2]. There are 4 main tasks to carried out [3]:\n",
    "* Summarise the history of the box plot and situations in which it used.\n",
    "* Demonstrate the use of the box plot using data of your choosing.\n",
    "* Explain any relevant terminology such as the terms quartile and percentile. \n",
    "* Compare the box plot to alternatives.\n",
    "\n",
    "### 1.2 Plan for the project\n",
    "\n",
    "The plan for this project is as follows:\n",
    "1. Section 2 will give an a brief introduction to boxplots, looking at the history and the use cases. The theory behid them and technical terminology will be explained at this stage\n",
    "1. In Section 3 I will analyse a data set using boxplots, (insert data set here!)\n",
    "1. In Section 4 I will discuss some of the findings from Section 3, looking at alternatives to the boxplot, comparing and contrasting the relative strenghts of each approach\n",
    "1. The project will be concluded in Section 5\n",
    "\n",
    "## 2. Overview of the Boxplots\n",
    "\n",
    "### 2.1 Descriptive Statistics\n",
    "\n",
    "When a statistician or data analyst want to understand and compare datasets, they must have some way way to summarise the dataset. For a one dimensional data set, the data summary should have some idea of where the middle of the dataset lies, and also some measure of what the spread or distribution around this middle value is. A common measure for the middle of a dataset is the *mean*. The mean is calculated by summing the values in the dataset and diving by the number of items in the dataset [4]. The *standard deviation* gives an idea of the spread of the values in the set. The standard deviation is calculated by [5]:\n",
    "1. Subtracting each value in the data set from the mean\n",
    "1. Squaring each result\n",
    "1. Taking the average of these resultant squares\n",
    "1. Taking the square root of this value\n",
    "\n",
    "The standard deviation is in the same units as the original data.\n",
    "\n",
    "A demonstration of how to calculate the mean and standard deviation is shown below:"
   ]
  },
  {
   "cell_type": "code",
   "execution_count": 1,
   "metadata": {},
   "outputs": [
    {
     "name": "stdout",
     "output_type": "stream",
     "text": [
      "The mean of the data is : 7.1\n",
      "The standard deviation of the data is : 7.98\n"
     ]
    }
   ],
   "source": [
    "# Create a list of data\n",
    "data = [1,2,2,4,5,5,6,7,9,30]\n",
    "\n",
    "# Calculate mean\n",
    "total = 0\n",
    "for i in data:\n",
    "    total = total + i \n",
    "mean = total/len(data)    \n",
    "\n",
    "# Calculate standard deviation\n",
    "devsq = 0\n",
    "for i in data:\n",
    "    devsq = devsq + (mean - i)**2 \n",
    "std_dev = (devsq/len(data))**0.5   \n",
    "\n",
    "print(\"The mean of the data is : \" + str(round(mean,2)))\n",
    "print(\"The standard deviation of the data is : \" + str(round(std_dev,2)))"
   ]
  },
  {
   "cell_type": "markdown",
   "metadata": {},
   "source": [
    "This demonstrates how to calculate the mean and standard deviation, note however that in this case the mean is 7.1 and only 2 out of the 10 points in the data set are above this value, the other 8 are below it. The mean has been influenced by the extremely high value (30) in the set.\n",
    "\n",
    "While the mean and standard deviation are useful for describing a dataset - they can be heavily influenced in data has *outliers* [6]. Outliers are extreme values that deviate from other observations in data [7]. If a dataset has outliers, the *five number summary summary* can be used to better describe it.\n",
    "\n",
    "### 2.2 The five number summary\n",
    "\n",
    "A different set of descriptive statistics that can be used to summarise a dataset is the *five number summary*. This chooses 5 numbers to help define the centre of the data, and also how well spread out they are [6]. The five numbers are:\n",
    "1. Minimum - the smallest value in the data set\n",
    "1. The *first quartile* - also known as the 25th *percentile*, and denoted by *Q<sub>1</sub>*\n",
    "1. The *median* - this is the midway point of the data set - 50% of the values in the set are below this value\n",
    "1. The *third quartile* - also know as the 75th *percentile* and denoted by *Q<sub>3</sub>*\n",
    "1. Maximum - the largest value in the data set\n",
    "\n",
    "#### Percentiles and Quartiles\n",
    "\n",
    "The most common definition of the term percentile, is the percentage of values that fall below a certain value [8]. To calculate the *k<sup>th</sup>* percentile (where k is a number between 1 and 100):\n",
    "1. Order the data set from smallest to largest\n",
    "1. Multiply *k* percent by the number of points in the data set\n",
    "1. If the result from step 2 is a whole number go to step 5, otherwise round it to the nearest whole number then go to step 4\n",
    "1. Count the numbers in you data set from smallest to largest until you get to the one indicated by step 3\n",
    "1. The corresponding value is the *k<sup>th</sup>* percentile\n",
    "1. Count the numbers in the data set until you get to the value indicated by step 2, the *k<sup>th</sup>* percentile is the average of that value and the value from the set that follows it\n",
    "\n",
    "Quartiles are special cases of percentiles:\n",
    "1. The first quartile, *Q<sub>1</sub>*, is equal to the 25<sup>th</sup> percentile\n",
    "1. The second quartile (known as the the *median*) is equal to the 50<sup>th</sup> percentile\n",
    "1. The third quartile, *Q<sub>3</sub>*, is equal to the 75<sup>th</sup> percentile\n",
    "\n",
    "The the difference between *Q<sub>3</sub>*, and *Q<sub>1</sub>* is known as the *inter-quartile range*, and can be used to give an indication of the spread of the data. The median is used as an estimate for the centre of the data. \n",
    "\n",
    "The `pandas` package in Python can be used to calculate the five number summary for the data from the previous example:"
   ]
  },
  {
   "cell_type": "code",
   "execution_count": 2,
   "metadata": {},
   "outputs": [
    {
     "data": {
      "text/plain": [
       "min     1.00\n",
       "25%     2.50\n",
       "50%     5.00\n",
       "75%     6.75\n",
       "max    30.00\n",
       "Name: data, dtype: float64"
      ]
     },
     "execution_count": 2,
     "metadata": {},
     "output_type": "execute_result"
    }
   ],
   "source": [
    "# import the package\n",
    "import pandas as pd\n",
    "# create a dataframe from the list\n",
    "df = pd.DataFrame(data, columns=[\"data\"])\n",
    "# use the describe() function to display the five number summary\n",
    "df.data.describe()[['min','25%','50%','75%','max']]"
   ]
  },
  {
   "cell_type": "markdown",
   "metadata": {},
   "source": [
    "The inter-quartile range can be calculated as follows:"
   ]
  },
  {
   "cell_type": "code",
   "execution_count": 3,
   "metadata": {},
   "outputs": [
    {
     "name": "stdout",
     "output_type": "stream",
     "text": [
      "The inter-quartile range for the data is: 4.25\n"
     ]
    }
   ],
   "source": [
    "# code adapted from https://stackoverflow.com/questions/34782063/how-to-use-pandas-filter-with-iqr\n",
    "\n",
    "# calculate the interquartile range and print\n",
    "Q3 = df['data'].quantile(0.75)\n",
    "Q1 = df['data'].quantile(0.25)\n",
    "\n",
    "IQR = Q3 - Q1\n",
    "print(\"The inter-quartile range for the data is: \" + str(IQR))"
   ]
  },
  {
   "cell_type": "markdown",
   "metadata": {},
   "source": [
    "*Note that the code above uses the **quantile** function - the quantile is another way of saying percentile - except the values are between 0 and 1 - the 25<sup>th</sup> percentile is the 0.25 quantile*\n",
    "\n",
    "Using the 5 number summary for the data provided - the median is 5, and the interquartile range (IQR) is 4.25. Comparing these to the dataset you can see that 5 is a better estimate for the centre as 50% of the the values are above it and below it. Also an IQR of 4.25 gives a better estimation of the spread as aside from the value of 30 (which look like an outlier) - most of the values fall between plus or minus 4.25 of the median.\n",
    "\n",
    "### 2.3 The Box Plot\n",
    "\n",
    "A boxplot is a standardized way of displaying the distribution of data based on a five number summary [10]. It is also a powerful graphical technique for comparing samples from two or more different treatments or populations. It was invented in the 1970s by American statistician John Wilder Tukey [11]. \n",
    "It is a compact distributional summary,  displaying less detail than a histogram or kernel density,  but also taking up less space.   Boxplots use robust summary statistics that are always located at actual data points and are quickly computable - even without a computer [12]. Over 40 years later, the box plot has become one of the most widely used statistical plots. In that time the box plot has been developed and enhanced, but Tukey's original box plot would have looked like this:\n",
    "\n",
    "<p align=\"center\">\n",
    "  <img src=\"img/boxplot.png\" width=\"400\"/></p>\n",
    "   <p style=\"text-align: center;\"> <b><I><a href=\"http://www.physics.csbsju.edu/stats/box2.html\">Box Plot</a></I></b> </p>  \n",
    "   \n",
    "The boxplot is made up of five components, carefully chosen to give a robust summary of the distribution\n",
    "of a dataset:\n",
    "* The median - line is drawn to show this\n",
    "* The 1<sup>st</sup> and 3<sup>rd</sup> quartiles - depicted as either end of the box\n",
    "* The maximum and minimum values (know as the extremes)\n",
    "* Whiskers to join the extremes to the quartiles\n",
    "* Potential outliers - points that are 1.5 times the interquartile range outside the extremes\n",
    "\n",
    "The best way to demonstrate the power of the boxplot, as well as how to interprete it is through a worked example."
   ]
  },
  {
   "cell_type": "markdown",
   "metadata": {},
   "source": [
    "## 3. How to use the box plot\n",
    "### 3.1 Fishers Iris Dataset\n",
    "In this section of the project I am going to look at Ronald Fishers Iris Data Set [13], and use this data to demonstarte the use of the box plot. This data set containes 150 data points. Each data point has 5 data measurements, the sepal length, the sepal width, the petal lenght, the petal width and the species. The 150 points are spread evenly between the 3 species setosa, virginica and versicolor. This data set can be loaded using the seaborn library[14]."
   ]
  },
  {
   "cell_type": "code",
   "execution_count": 2,
   "metadata": {},
   "outputs": [
    {
     "data": {
      "text/html": [
       "<div>\n",
       "<style scoped>\n",
       "    .dataframe tbody tr th:only-of-type {\n",
       "        vertical-align: middle;\n",
       "    }\n",
       "\n",
       "    .dataframe tbody tr th {\n",
       "        vertical-align: top;\n",
       "    }\n",
       "\n",
       "    .dataframe thead th {\n",
       "        text-align: right;\n",
       "    }\n",
       "</style>\n",
       "<table border=\"1\" class=\"dataframe\">\n",
       "  <thead>\n",
       "    <tr style=\"text-align: right;\">\n",
       "      <th></th>\n",
       "      <th>sepal_length</th>\n",
       "      <th>sepal_width</th>\n",
       "      <th>petal_length</th>\n",
       "      <th>petal_width</th>\n",
       "      <th>species</th>\n",
       "    </tr>\n",
       "  </thead>\n",
       "  <tbody>\n",
       "    <tr>\n",
       "      <th>73</th>\n",
       "      <td>6.1</td>\n",
       "      <td>2.8</td>\n",
       "      <td>4.7</td>\n",
       "      <td>1.2</td>\n",
       "      <td>versicolor</td>\n",
       "    </tr>\n",
       "    <tr>\n",
       "      <th>121</th>\n",
       "      <td>5.6</td>\n",
       "      <td>2.8</td>\n",
       "      <td>4.9</td>\n",
       "      <td>2.0</td>\n",
       "      <td>virginica</td>\n",
       "    </tr>\n",
       "    <tr>\n",
       "      <th>93</th>\n",
       "      <td>5.0</td>\n",
       "      <td>2.3</td>\n",
       "      <td>3.3</td>\n",
       "      <td>1.0</td>\n",
       "      <td>versicolor</td>\n",
       "    </tr>\n",
       "    <tr>\n",
       "      <th>100</th>\n",
       "      <td>6.3</td>\n",
       "      <td>3.3</td>\n",
       "      <td>6.0</td>\n",
       "      <td>2.5</td>\n",
       "      <td>virginica</td>\n",
       "    </tr>\n",
       "    <tr>\n",
       "      <th>94</th>\n",
       "      <td>5.6</td>\n",
       "      <td>2.7</td>\n",
       "      <td>4.2</td>\n",
       "      <td>1.3</td>\n",
       "      <td>versicolor</td>\n",
       "    </tr>\n",
       "    <tr>\n",
       "      <th>30</th>\n",
       "      <td>4.8</td>\n",
       "      <td>3.1</td>\n",
       "      <td>1.6</td>\n",
       "      <td>0.2</td>\n",
       "      <td>setosa</td>\n",
       "    </tr>\n",
       "    <tr>\n",
       "      <th>31</th>\n",
       "      <td>5.4</td>\n",
       "      <td>3.4</td>\n",
       "      <td>1.5</td>\n",
       "      <td>0.4</td>\n",
       "      <td>setosa</td>\n",
       "    </tr>\n",
       "    <tr>\n",
       "      <th>54</th>\n",
       "      <td>6.5</td>\n",
       "      <td>2.8</td>\n",
       "      <td>4.6</td>\n",
       "      <td>1.5</td>\n",
       "      <td>versicolor</td>\n",
       "    </tr>\n",
       "    <tr>\n",
       "      <th>98</th>\n",
       "      <td>5.1</td>\n",
       "      <td>2.5</td>\n",
       "      <td>3.0</td>\n",
       "      <td>1.1</td>\n",
       "      <td>versicolor</td>\n",
       "    </tr>\n",
       "    <tr>\n",
       "      <th>135</th>\n",
       "      <td>7.7</td>\n",
       "      <td>3.0</td>\n",
       "      <td>6.1</td>\n",
       "      <td>2.3</td>\n",
       "      <td>virginica</td>\n",
       "    </tr>\n",
       "  </tbody>\n",
       "</table>\n",
       "</div>"
      ],
      "text/plain": [
       "     sepal_length  sepal_width  petal_length  petal_width     species\n",
       "73            6.1          2.8           4.7          1.2  versicolor\n",
       "121           5.6          2.8           4.9          2.0   virginica\n",
       "93            5.0          2.3           3.3          1.0  versicolor\n",
       "100           6.3          3.3           6.0          2.5   virginica\n",
       "94            5.6          2.7           4.2          1.3  versicolor\n",
       "30            4.8          3.1           1.6          0.2      setosa\n",
       "31            5.4          3.4           1.5          0.4      setosa\n",
       "54            6.5          2.8           4.6          1.5  versicolor\n",
       "98            5.1          2.5           3.0          1.1  versicolor\n",
       "135           7.7          3.0           6.1          2.3   virginica"
      ]
     },
     "execution_count": 2,
     "metadata": {},
     "output_type": "execute_result"
    }
   ],
   "source": [
    "# import the library\n",
    "import seaborn as sns\n",
    "import matplotlib.pyplot as plt\n",
    "%matplotlib inline\n",
    "# load the data set\n",
    "iris = sns.load_dataset('iris')\n",
    "# view a sample of the data\n",
    "iris.sample(10)"
   ]
  },
  {
   "cell_type": "markdown",
   "metadata": {},
   "source": [
    "### 3.2 Plotting the Iris dataset with a boxplot\n",
    "Boxplots are excellent for visulaising the five number summary on a singluar column of data. The code below will generate a box plot for the `sepal_lenght`."
   ]
  },
  {
   "cell_type": "code",
   "execution_count": 3,
   "metadata": {},
   "outputs": [
    {
     "data": {
      "image/png": "[encoded data removed]",
      "text/plain": [
       "<matplotlib.figure.Figure at 0xadc29e8>"
      ]
     },
     "metadata": {},
     "output_type": "display_data"
    }
   ],
   "source": [
    "#resize the plot\n",
    "plt.rcParams['figure.figsize'] = [8, 8]\n",
    "# call the boxplot\n",
    "sns.boxplot(y='sepal_length', data=iris, orient='v')\n",
    "# give a title to the plot\n",
    "plt.title('Box plot of the Iris Flowers Sepal Length')\n",
    "plt.show()"
   ]
  },
  {
   "cell_type": "markdown",
   "metadata": {},
   "source": [
    "This shows us that [15]: \n",
    "* the median value (Q2) is approx 5.8cms\n",
    "* the 25th percentile (Q1) is approx 5.1cms \n",
    "* the 75th percentile (Q3) is approx 6.4, \n",
    "* the minimum value is 4.3\n",
    "* the maximum value is 7.9\n",
    "* there are no outliers in the dataset\n",
    "* there is a slight negative skew - this means that the range between the Q2 and Q1 is slightly bigger that the range between Q3 and Q2\n",
    "\n",
    "This is fine - but the real value with a box plot is using them the draw comparisons between different data. Say for example, we want to compare the five number summaries of the sepal lenghts of the 3 species of iris flower to see what, if any, differences exist. The boxplot is perfect for this purpose. In the nex section, we will make such a plot and then explain it."
   ]
  },
  {
   "cell_type": "markdown",
   "metadata": {},
   "source": [
    "### 3.3 Interpreting a box plot\n",
    "In this section, we will look at how to interpret the data that is displayed in the box plot by using the box plot as a means to compare different data set. The first step is to plot the data."
   ]
  },
  {
   "cell_type": "code",
   "execution_count": 5,
   "metadata": {},
   "outputs": [
    {
     "data": {
      "image/png": "[encoded data removed]",
      "text/plain": [
       "<matplotlib.figure.Figure at 0xaef39b0>"
      ]
     },
     "metadata": {},
     "output_type": "display_data"
    }
   ],
   "source": [
    "# resize the plot\n",
    "plt.rcParams['figure.figsize'] = [8, 8]\n",
    "# call the box plot - seperating by species\n",
    "sns.boxplot(x='species', y='sepal_length', data=iris, orient='v', hue='species')\n",
    "# give a title to the plot\n",
    "plt.title('Box plot of the Iris Flowers Sepal Length per Species')\n",
    "plt.legend()\n",
    "plt.show()"
   ]
  },
  {
   "cell_type": "markdown",
   "metadata": {},
   "source": [
    "The plot above shows 3 box plots side by side in the same picture. It shows a comparison between the 5 number summaries for the sepal lenght for the 3 differnet species of Iris flower in the the dataset. The BioTuring blog outlines a great workflow for comparing the plots shown to determine what conclusions can be drawn from the data in the set [16]. The first step is to look at the the boxes which represent the inter-quartile ranges. If the boxes do not overlap we can definitvelt say that the there is a difference. Looking at the iris flower plot above - we can decuced that the setosa sepal lenght is definietly shorter that the other 2 species as the box on that plot does not overlap with the others. \n",
    "\n",
    "If the boxes do overlap - like the versicolor and virginica boxes, we need to consider the median lines. If the median lines from on plot lies entirely outside of the box of the other, we can say that there is *likely* to be a difference between the 2 sets fo data. This holds true for the versicolor and virginica data - so we can say that the virginica sepal is likely to be longer that the versicolor sepal. \n",
    "\n",
    "If this was not the case and there was spread past both medians in the plots - we need to consider the whisters. Longer whiskers are present when there is a larger spread in the data - infact longer boxes mean that too. In our plot above - we can see that the spread for the setosa species is much smaller than the spread for the other two species.\n",
    "\n",
    "The last thing to consider is the presence of outliers - in the dataset above there is one outlier. The other species have no outliers."
   ]
  },
  {
   "cell_type": "markdown",
   "metadata": {},
   "source": [
    "## 4. Alternatives To the Box Plot\n",
    "As show in the section 3, the box plot is an excellent tool for comparing various datasets across a single parameter. Alternative graphical methods to carry out this function include:\n",
    "* Histogram\n",
    "* Kernal Density Estimations\n",
    "\n",
    "give a quick definition of each (with reference)\n",
    "\n",
    "Plot our data with both\n",
    "\n",
    "Discuss the differences between the different things.\n",
    "\n",
    "## 6. Conclusion"
   ]
  },
  {
   "cell_type": "markdown",
   "metadata": {},
   "source": [
    "## References\n",
    "\n",
    "1. [1] Project Jupyter. Project Jupyter Home. (_https://www.jupyter.org/_)  \n",
    "1. [2] Matplotlib Development Team. pyplot. (*https://matplotlib.org/api/pyplot_api.html*)\n",
    "1. [3] Dr. Ian McLoughlin. GMIT. Project 2018: Fundamentals of Data Analysis (_https://github.com/ianmcloughlin/funda-project-2018/raw/master/project.pdf_) \n",
    "1. [4] www.mathisfun.com. How to find the mean. (*https://www.mathsisfun.com/mean.html*)\n",
    "1. [5] www.mathisfun.com. Standard Deviation and Variance. (*https://www.mathsisfun.com/standard-deviation.html*) \n",
    "1. [6] www;thoughtco.com What is the five number summary? (https://www.thoughtco.com/what-is-the-five-number-summary-3126237**)\n",
    "1. [7] www.towardsdatascience.com. A Brief Overview of Outlier Detection Techniques. (https://towardsdatascience.com/a-brief-overview-of-outlier-detection-techniques-1e0b2c19e561)\n",
    "1. [8] www.statisticshowto.datascience.com. Percentiles, Percentile Rank & Percentile Range (*https://www.statisticshowto.datasciencecentral.com/probability-and-statistics/percentiles-rank-range/*)\n",
    "1. [9] Deborah J. Rumsey, PhD. Statistics For Dummies 2nd Edition. (pp. 87 - 89). (ISBN - 9781119293521)\n",
    "1. [10] www.towarddatascience.com. Understanding Boxplots. (*https://towardsdatascience.com/understanding-boxplots-5e2df7bcbd51*)\n",
    "1. [11] www.britannica.com. Box and Whisker Plot. (*https://www.britannica.com/science/box-and-whisker-plot*)\n",
    "1. [12] Hadley Wickham and Lisa Stryjewski. 40 years of boxplots. (*http://vita.had.co.nz/papers/boxplots.pdf*)\n",
    "1. [13] www.wikipedia.org. Iris flower data set. (*https://en.wikipedia.org/wiki/Iris_flower_data_set*)\n",
    "1. [14] Seaborn Documentation. seaborn.boxplot. (*https://seaborn.pydata.org/generated/seaborn.boxplot.html*)\n",
    "1. [15] www.medium.com. Understanding and interpreting box plots. (*https://medium.com/dayem-siddiqui/understanding-and-interpreting-box-plots-d07aab9d1b6c*)\n",
    "1. [16] blog.bioturing.com. How to compare box plots. (*https://blog.bioturing.com/2018/05/22/how-to-compare-box-plots/*)"
   ]
  }
 ],
 "metadata": {
  "kernelspec": {
   "display_name": "Python 3",
   "language": "python",
   "name": "python3"
  },
  "language_info": {
   "codemirror_mode": {
    "name": "ipython",
    "version": 3
   },
   "file_extension": ".py",
   "mimetype": "text/x-python",
   "name": "python",
   "nbconvert_exporter": "python",
   "pygments_lexer": "ipython3",
   "version": "3.6.4"
  }
 },
 "nbformat": 4,
 "nbformat_minor": 2
}
