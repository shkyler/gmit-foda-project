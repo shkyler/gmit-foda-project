{
 "cells": [
  {
   "cell_type": "markdown",
   "metadata": {},
   "source": [
    "<p align=\"center\">\n",
    "  <img src=\"img/GMITLOGO.jpg\" width=\"500\"/></p>"
   ]
  },
  {
   "cell_type": "markdown",
   "metadata": {},
   "source": [
    "# GMIT, H.Dip in Data Analytics, Fundamentals of Data Analysis Project 2018"
   ]
  },
  {
   "cell_type": "markdown",
   "metadata": {},
   "source": [
    "## 1. Introduction\n",
    "\n",
    "This repository contains all of the files pertaining to my 2018 project submission for the Fundamentals of Data \n",
    "Analysis module of the GMIT H.Dip program in Data Analytics. All of the work within this repository was carried out over the course of a 4 week period in November and December 2018. This Jupyter notebook [1] contains the complete documentation for the project.\n",
    "\n",
    "### 1.1 Project Objective\n",
    "\n",
    "The objective of this project is to investigte and explain boxplots and their uses, by researching the subject and then demonstrating the use of box plots using `matplotlib.pyplot`[2]. There are 4 main tasks to carried out [3]:\n",
    "* Summarise the history of the box plot and situations in which it used.\n",
    "* Demonstrate the use of the box plot using data of your choosing.\n",
    "* Explain any relevant terminology such as the terms quartile and percentile. \n",
    "* Compare the box plot to alternatives.\n",
    "\n",
    "### 1.2 Plan for the project\n",
    "\n",
    "The plan for this project is as follows:\n",
    "1. Section 2 will give an a brief introduction to boxplots, looking at the history and the use cases. The theory behid them and technical terminology will be explained at this stage\n",
    "1. In Section 3 I will analyse a data set using boxplots, (insert data set here!)\n",
    "1. In Section 4 I will discuss some of the findings from Section 3, looking at alternatives to the boxplot, comparing and contrasting the relative strenghts of each approach\n",
    "1. The project will be concluded in Section 5\n",
    "\n",
    "## 2. Overview of the Boxplots\n",
    "\n",
    "### 2.1 Descriptive Statistics\n",
    "\n",
    "When a statistician or data analyst want to understand and compare datasets, they must have some way way to summarise the dataset. For a one dimensional data set, the data summary should have some idea of where the middle of the dataset lies, and also some measure of what the spread or distribution around this middle value is. A common measure for the middle of a dataset is the *mean*. The mean is calculated by summing the values in the dataset and diving by the number of items in the dataset [4]. The *standard deviation* gives an idea of the spread of the values in the set. The standard deviation is calculated by [5]:\n",
    "1. Subtracting each value in the data set from the mean\n",
    "1. Squaring each result\n",
    "1. Taking the average of these resultant squares\n",
    "1. Taking the square root of this value\n",
    "\n",
    "The standard deviation is in the same units as the original data.\n",
    "\n",
    "A demonstration of how to calculate the mean and standard deviation is shown below:"
   ]
  },
  {
   "cell_type": "code",
   "execution_count": 13,
   "metadata": {},
   "outputs": [
    {
     "name": "stdout",
     "output_type": "stream",
     "text": [
      "636.9\n",
      "The mean of the data is : 7.1\n",
      "The standard deviation of the data is : 7.98\n"
     ]
    }
   ],
   "source": [
    "# Create a list of data\n",
    "data = [1,2,2,4,5,5,6,7,9,30]\n",
    "\n",
    "# Calculate mean\n",
    "total = 0\n",
    "for i in data:\n",
    "    total = total + i \n",
    "mean = total/len(data)    \n",
    "\n",
    "# Calculate standard deviation\n",
    "devsq = 0\n",
    "for i in data:\n",
    "    devsq = devsq + (mean - i)**2 \n",
    "std_dev = (devsq/len(data))**0.5   \n",
    "\n",
    "print(\"The mean of the data is : \" + str(round(mean,2)))\n",
    "print(\"The standard deviation of the data is : \" + str(round(std_dev,2)))"
   ]
  },
  {
   "cell_type": "markdown",
   "metadata": {},
   "source": [
    "This demonstrates how to calculate the mean and standard deviation, note however that in this case the mean is 7.1 and only 2 out of the 10 points in the data set are above this value, the other 8 are below it. The mean has been influenced by the extremely high value (30) in the set.\n",
    "\n",
    "While the mean and standard deviation are useful for describing a dataset - they can be heavily influenced in data has *outliers* [6]. Outliers are extreme values that deviate from other observations in data [7]. If a dataset has outliers, the *five number summary summary* can be used to better describe it.\n",
    "\n",
    "### 2.2 The five number summary"
   ]
  },
  {
   "cell_type": "markdown",
   "metadata": {},
   "source": [
    "### History\n",
    "### Uses\n",
    "\n",
    "## 3. How to use the box plot\n",
    "### Code samples to show how it can be used\n",
    "\n",
    "## 4. Alternatives\n",
    "### Comparisons between box plots and other such as histograms\n",
    "\n",
    "## 6. Conclusion"
   ]
  },
  {
   "cell_type": "markdown",
   "metadata": {},
   "source": [
    "## References\n",
    "\n",
    "1. [1] Project Jupyter. Project Jupyter Home. (_https://www.jupyter.org/_)  \n",
    "1. [2] Matplotlib Development Team. pyplot. (*https://matplotlib.org/api/pyplot_api.html*)\n",
    "1. [3] Dr. Ian McLoughlin. GMIT. Project 2018: Fundamentals of Data Analysis (_https://github.com/ianmcloughlin/funda-project-2018/raw/master/project.pdf_) \n",
    "1. [4] www.mathisfun.com. How to find the mean. (*https://www.mathsisfun.com/mean.html*)\n",
    "1. [5] www.mathisfun.com. Standard Deviation and Variance. (*https://www.mathsisfun.com/standard-deviation.html*) \n",
    "1. [6] www;thoughtco.com What is the five number summary? (https://www.thoughtco.com/what-is-the-five-number-summary-3126237**)\n",
    "1. [7] www.towardsdatascience.com. A Brief Overview of Outlier Detection Techniques. (https://towardsdatascience.com/a-brief-overview-of-outlier-detection-techniques-1e0b2c19e561)"
   ]
  },
  {
   "cell_type": "code",
   "execution_count": null,
   "metadata": {},
   "outputs": [],
   "source": []
  },
  {
   "cell_type": "code",
   "execution_count": null,
   "metadata": {},
   "outputs": [],
   "source": []
  }
 ],
 "metadata": {
  "kernelspec": {
   "display_name": "Python 3",
   "language": "python",
   "name": "python3"
  },
  "language_info": {
   "codemirror_mode": {
    "name": "ipython",
    "version": 3
   },
   "file_extension": ".py",
   "mimetype": "text/x-python",
   "name": "python",
   "nbconvert_exporter": "python",
   "pygments_lexer": "ipython3",
   "version": "3.6.6"
  }
 },
 "nbformat": 4,
 "nbformat_minor": 2
}
